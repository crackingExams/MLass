{
 "cells": [
  {
   "cell_type": "code",
   "execution_count": 2,
   "id": "ce220b07",
   "metadata": {},
   "outputs": [],
   "source": [
    "import numpy as np\n",
    "import matplotlib.pyplot as plt"
   ]
  },
  {
   "cell_type": "code",
   "execution_count": 3,
   "id": "f01760e7",
   "metadata": {},
   "outputs": [],
   "source": [
    "np.random.seed(0)\n",
    "X = 2 * np.random.rand(100, 1)\n",
    "y = 4 + 3 * X + np.random.randn(100, 1)"
   ]
  },
  {
   "cell_type": "code",
   "execution_count": 4,
   "id": "ac9c937e",
   "metadata": {},
   "outputs": [],
   "source": [
    "def linear_regression(X, y, learning_rate=0.01, epochs=1000):\n",
    "    m, n = X.shape\n",
    "    X_b = np.c_[np.ones((m, 1)), X]  \n",
    "    theta = np.random.randn(n + 1, 1)  \n",
    "    for epoch in range(epochs):\n",
    "        gradients = 2/m * X_b.T.dot(X_b.dot(theta) - y)\n",
    "        theta -= learning_rate * gradients\n",
    "    return theta"
   ]
  },
  {
   "cell_type": "code",
   "execution_count": 5,
   "id": "423cd0d5",
   "metadata": {},
   "outputs": [],
   "source": [
    "theta = linear_regression(X, y)"
   ]
  },
  {
   "cell_type": "code",
   "execution_count": 7,
   "id": "9ab1606a",
   "metadata": {},
   "outputs": [
    {
     "data": {
      "image/png": "[encoded data removed]",
      "text/plain": [
       "<Figure size 432x288 with 1 Axes>"
      ]
     },
     "metadata": {
      "needs_background": "light"
     },
     "output_type": "display_data"
    },
    {
     "name": "stdout",
     "output_type": "stream",
     "text": [
      "Intercept (bias): 4.20607718142562\n",
      "Slope (weight): 2.9827303563323175\n"
     ]
    }
   ],
   "source": [
    "plt.plot(X, y, \"b.\")\n",
    "plt.plot(X, theta[0] + theta[1] * X, \"r-\")\n",
    "plt.xlabel(\"x\")\n",
    "plt.ylabel(\"y\")\n",
    "plt.title(\"Linear Regression with a Single Neuron Model\")\n",
    "plt.show()\n",
    "print(f\"Intercept (bias): {theta[0][0]}\")\n",
    "print(f\"Slope (weight): {theta[1][0]}\")"
   ]
  },
  {
   "cell_type": "code",
   "execution_count": null,
   "id": "d337f2d9",
   "metadata": {},
   "outputs": [],
   "source": []
  }
 ],
 "metadata": {
  "kernelspec": {
   "display_name": "Python 3 (ipykernel)",
   "language": "python",
   "name": "python3"
  },
  "language_info": {
   "codemirror_mode": {
    "name": "ipython",
    "version": 3
   },
   "file_extension": ".py",
   "mimetype": "text/x-python",
   "name": "python",
   "nbconvert_exporter": "python",
   "pygments_lexer": "ipython3",
   "version": "3.9.12"
  }
 },
 "nbformat": 4,
 "nbformat_minor": 5
}
